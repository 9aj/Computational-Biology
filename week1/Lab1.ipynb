{
 "cells": [
  {
   "cell_type": "code",
   "execution_count": 5,
   "id": "nervous-sunrise",
   "metadata": {},
   "outputs": [
    {
     "name": "stdout",
     "output_type": "stream",
     "text": [
      "Requirement already satisfied: pandas in /Users/alexandermiles/anaconda3/envs/compbio/lib/python3.6/site-packages (1.1.5)\n",
      "Requirement already satisfied: python-dateutil>=2.7.3 in /Users/alexandermiles/anaconda3/envs/compbio/lib/python3.6/site-packages (from pandas) (2.8.1)\n",
      "Requirement already satisfied: numpy>=1.15.4 in /Users/alexandermiles/anaconda3/envs/compbio/lib/python3.6/site-packages (from pandas) (1.19.5)\n",
      "Requirement already satisfied: pytz>=2017.2 in /Users/alexandermiles/anaconda3/envs/compbio/lib/python3.6/site-packages (from pandas) (2021.1)\n",
      "Requirement already satisfied: six>=1.5 in /Users/alexandermiles/anaconda3/envs/compbio/lib/python3.6/site-packages (from python-dateutil>=2.7.3->pandas) (1.15.0)\n",
      "Requirement already satisfied: openpyxl in /Users/alexandermiles/anaconda3/envs/compbio/lib/python3.6/site-packages (3.0.6)\n",
      "Requirement already satisfied: et-xmlfile in /Users/alexandermiles/anaconda3/envs/compbio/lib/python3.6/site-packages (from openpyxl) (1.0.1)\n",
      "Requirement already satisfied: jdcal in /Users/alexandermiles/anaconda3/envs/compbio/lib/python3.6/site-packages (from openpyxl) (1.4.1)\n",
      "Collecting matplotlib\n",
      "  Downloading matplotlib-3.3.4-cp36-cp36m-macosx_10_9_x86_64.whl (8.5 MB)\n",
      "\u001b[K     |████████████████████████████████| 8.5 MB 1.9 MB/s eta 0:00:01\n",
      "\u001b[?25hRequirement already satisfied: pyparsing!=2.0.4,!=2.1.2,!=2.1.6,>=2.0.3 in /Users/alexandermiles/anaconda3/envs/compbio/lib/python3.6/site-packages (from matplotlib) (2.4.7)\n",
      "Requirement already satisfied: numpy>=1.15 in /Users/alexandermiles/anaconda3/envs/compbio/lib/python3.6/site-packages (from matplotlib) (1.19.5)\n",
      "Requirement already satisfied: python-dateutil>=2.1 in /Users/alexandermiles/anaconda3/envs/compbio/lib/python3.6/site-packages (from matplotlib) (2.8.1)\n",
      "Collecting cycler>=0.10\n",
      "  Using cached cycler-0.10.0-py2.py3-none-any.whl (6.5 kB)\n",
      "Requirement already satisfied: six in /Users/alexandermiles/anaconda3/envs/compbio/lib/python3.6/site-packages (from cycler>=0.10->matplotlib) (1.15.0)\n",
      "Collecting kiwisolver>=1.0.1\n",
      "  Using cached kiwisolver-1.3.1-cp36-cp36m-macosx_10_9_x86_64.whl (61 kB)\n",
      "Collecting pillow>=6.2.0\n",
      "  Using cached Pillow-8.1.0-cp36-cp36m-macosx_10_10_x86_64.whl (2.2 MB)\n",
      "Installing collected packages: pillow, kiwisolver, cycler, matplotlib\n",
      "Successfully installed cycler-0.10.0 kiwisolver-1.3.1 matplotlib-3.3.4 pillow-8.1.0\n"
     ]
    }
   ],
   "source": [
    "!pip install pandas\n",
    "!pip install openpyxl\n",
    "!pip install matplotlib"
   ]
  },
  {
   "cell_type": "code",
   "execution_count": 9,
   "id": "defensive-distance",
   "metadata": {},
   "outputs": [],
   "source": [
    "# Imports\n",
    "import pandas as pd\n",
    "import matplotlib.pyplot as plt"
   ]
  },
  {
   "cell_type": "code",
   "execution_count": 3,
   "id": "intelligent-prescription",
   "metadata": {},
   "outputs": [],
   "source": [
    "# Read data\n",
    "cell_cycle = 'data/Cell-Cycle-Set.xlsx'\n",
    "data = pd.read_excel(cell_cycle,engine='openpyxl')"
   ]
  },
  {
   "cell_type": "code",
   "execution_count": 4,
   "id": "isolated-wagner",
   "metadata": {},
   "outputs": [
    {
     "data": {
      "text/html": [
       "<div>\n",
       "<style scoped>\n",
       "    .dataframe tbody tr th:only-of-type {\n",
       "        vertical-align: middle;\n",
       "    }\n",
       "\n",
       "    .dataframe tbody tr th {\n",
       "        vertical-align: top;\n",
       "    }\n",
       "\n",
       "    .dataframe thead th {\n",
       "        text-align: right;\n",
       "    }\n",
       "</style>\n",
       "<table border=\"1\" class=\"dataframe\">\n",
       "  <thead>\n",
       "    <tr style=\"text-align: right;\">\n",
       "      <th></th>\n",
       "      <th>Gene_Name</th>\n",
       "      <th>mean_RNA_G1</th>\n",
       "      <th>mean_RNA_S</th>\n",
       "      <th>mean_RNA_G2</th>\n",
       "      <th>mean_protein_G1</th>\n",
       "      <th>mean_protein_S</th>\n",
       "      <th>mean_protein_G2</th>\n",
       "      <th>GOBP</th>\n",
       "      <th>GOMF</th>\n",
       "      <th>GOCC</th>\n",
       "    </tr>\n",
       "  </thead>\n",
       "  <tbody>\n",
       "    <tr>\n",
       "      <th>1</th>\n",
       "      <td>RBM47</td>\n",
       "      <td>10.330107</td>\n",
       "      <td>10.396423</td>\n",
       "      <td>10.677257</td>\n",
       "      <td>24.748020</td>\n",
       "      <td>22.426777</td>\n",
       "      <td>24.651200</td>\n",
       "      <td>base conversion or substitution editing;biolog...</td>\n",
       "      <td>binding;nucleic acid binding;nucleotide bindin...</td>\n",
       "      <td>apolipoprotein B mRNA editing enzyme complex;c...</td>\n",
       "    </tr>\n",
       "    <tr>\n",
       "      <th>2</th>\n",
       "      <td>ADAM9</td>\n",
       "      <td>12.321340</td>\n",
       "      <td>12.203630</td>\n",
       "      <td>12.233293</td>\n",
       "      <td>19.083593</td>\n",
       "      <td>16.248873</td>\n",
       "      <td>19.281277</td>\n",
       "      <td>activation of MAPKK activity;activation of pro...</td>\n",
       "      <td>binding;catalytic activity;cation binding;coll...</td>\n",
       "      <td>cell part;extracellular region part;extracellu...</td>\n",
       "    </tr>\n",
       "    <tr>\n",
       "      <th>3</th>\n",
       "      <td>UBA6</td>\n",
       "      <td>10.827333</td>\n",
       "      <td>10.758463</td>\n",
       "      <td>10.685847</td>\n",
       "      <td>24.614467</td>\n",
       "      <td>21.356450</td>\n",
       "      <td>25.207883</td>\n",
       "      <td>catabolic process;cellular catabolic process;c...</td>\n",
       "      <td>adenyl nucleotide binding;adenyl ribonucleotid...</td>\n",
       "      <td>cell part;cytoplasm;intracellular part</td>\n",
       "    </tr>\n",
       "    <tr>\n",
       "      <th>5</th>\n",
       "      <td>SHTN1</td>\n",
       "      <td>10.845517</td>\n",
       "      <td>10.824347</td>\n",
       "      <td>10.634980</td>\n",
       "      <td>26.112690</td>\n",
       "      <td>22.905927</td>\n",
       "      <td>26.138843</td>\n",
       "      <td>axon guidance;chemotaxis;locomotion;response t...</td>\n",
       "      <td>binding;enzyme binding;kinase binding;protein ...</td>\n",
       "      <td>axon;cell part;cell projection;neuron projection</td>\n",
       "    </tr>\n",
       "    <tr>\n",
       "      <th>6</th>\n",
       "      <td>SIL1</td>\n",
       "      <td>9.042438</td>\n",
       "      <td>8.924093</td>\n",
       "      <td>9.035878</td>\n",
       "      <td>22.750520</td>\n",
       "      <td>20.598227</td>\n",
       "      <td>23.093443</td>\n",
       "      <td>cellular macromolecule metabolic process;cellu...</td>\n",
       "      <td>binding;protein binding;unfolded protein binding</td>\n",
       "      <td>cell part;cytoplasmic part;endoplasmic reticul...</td>\n",
       "    </tr>\n",
       "  </tbody>\n",
       "</table>\n",
       "</div>"
      ],
      "text/plain": [
       "  Gene_Name  mean_RNA_G1  mean_RNA_S  mean_RNA_G2  mean_protein_G1  \\\n",
       "1     RBM47    10.330107   10.396423    10.677257        24.748020   \n",
       "2     ADAM9    12.321340   12.203630    12.233293        19.083593   \n",
       "3      UBA6    10.827333   10.758463    10.685847        24.614467   \n",
       "5     SHTN1    10.845517   10.824347    10.634980        26.112690   \n",
       "6      SIL1     9.042438    8.924093     9.035878        22.750520   \n",
       "\n",
       "   mean_protein_S  mean_protein_G2  \\\n",
       "1       22.426777        24.651200   \n",
       "2       16.248873        19.281277   \n",
       "3       21.356450        25.207883   \n",
       "5       22.905927        26.138843   \n",
       "6       20.598227        23.093443   \n",
       "\n",
       "                                                GOBP  \\\n",
       "1  base conversion or substitution editing;biolog...   \n",
       "2  activation of MAPKK activity;activation of pro...   \n",
       "3  catabolic process;cellular catabolic process;c...   \n",
       "5  axon guidance;chemotaxis;locomotion;response t...   \n",
       "6  cellular macromolecule metabolic process;cellu...   \n",
       "\n",
       "                                                GOMF  \\\n",
       "1  binding;nucleic acid binding;nucleotide bindin...   \n",
       "2  binding;catalytic activity;cation binding;coll...   \n",
       "3  adenyl nucleotide binding;adenyl ribonucleotid...   \n",
       "5  binding;enzyme binding;kinase binding;protein ...   \n",
       "6   binding;protein binding;unfolded protein binding   \n",
       "\n",
       "                                                GOCC  \n",
       "1  apolipoprotein B mRNA editing enzyme complex;c...  \n",
       "2  cell part;extracellular region part;extracellu...  \n",
       "3             cell part;cytoplasm;intracellular part  \n",
       "5   axon;cell part;cell projection;neuron projection  \n",
       "6  cell part;cytoplasmic part;endoplasmic reticul...  "
      ]
     },
     "execution_count": 4,
     "metadata": {},
     "output_type": "execute_result"
    }
   ],
   "source": [
    "# Drop rows with missing data\n",
    "data = data.dropna()\n",
    "data.head()"
   ]
  },
  {
   "cell_type": "code",
   "execution_count": 18,
   "id": "electronic-rolling",
   "metadata": {},
   "outputs": [
    {
     "data": {
      "text/plain": [
       "Text(209.74318181818177, 0.5, 'Frequency')"
      ]
     },
     "execution_count": 18,
     "metadata": {},
     "output_type": "execute_result"
    },
    {
     "data": {
      "image/png": "[encoded data removed]",
      "text/plain": [
       "<Figure size 432x288 with 2 Axes>"
      ]
     },
     "metadata": {
      "needs_background": "light"
     },
     "output_type": "display_data"
    }
   ],
   "source": [
    "# Initial histogram(s)\n",
    "fig, axes = plt.subplots(1,2)\n",
    "fig.tight_layout()\n",
    "\n",
    "# Histogram of G1 stage (RNA)\n",
    "axes[0].hist(x=data['mean_RNA_G1'], bins='auto', color='#0504aa',\n",
    "                            alpha=0.7, rwidth=0.85)\n",
    "\n",
    "plt.grid(axis='y', alpha=0.75)\n",
    "axes[0].set_xlabel('G1 RNA')\n",
    "axes[0].set_ylabel('Frequency')\n",
    "\n",
    "# Histogram of G1 stage (protein)\n",
    "axes[1].hist(x=data['mean_protein_G1'], bins='auto', color='#0504aa',\n",
    "                            alpha=0.7, rwidth=0.85)\n",
    "\n",
    "axes[1].set_xlabel('G1 Protein')\n",
    "axes[1].set_ylabel('Frequency')"
   ]
  },
  {
   "cell_type": "code",
   "execution_count": 26,
   "id": "north-accident",
   "metadata": {},
   "outputs": [
    {
     "name": "stdout",
     "output_type": "stream",
     "text": [
      "G1 RNA Variance: 2.160505613981754\n",
      "G1 RNA Mean: 11.215627083963055\n",
      "G1 Protein Variance: 10.453573575650367\n",
      "G1 Protein Mean: 25.351671637279598\n"
     ]
    }
   ],
   "source": [
    "# Calculate Variance and Mean\n",
    "g1_rna_var = data.var()['mean_RNA_G1']\n",
    "print(\"G1 RNA Variance:\", g1_rna_var)\n",
    "\n",
    "g1_rna_mean = data.mean()['mean_RNA_G1']\n",
    "print(\"G1 RNA Mean:\", g1_rna_mean)\n",
    "\n",
    "g1_pro_var = data.var()['mean_protein_G1']\n",
    "print(\"G1 Protein Variance:\", g1_pro_var)\n",
    "\n",
    "g1_pro_mean = data.mean()['mean_protein_G1']\n",
    "print(\"G1 Protein Mean:\", g1_pro_mean)"
   ]
  },
  {
   "cell_type": "code",
   "execution_count": null,
   "id": "tropical-movement",
   "metadata": {},
   "outputs": [],
   "source": []
  }
 ],
 "metadata": {
  "kernelspec": {
   "display_name": "Python 3",
   "language": "python",
   "name": "python3"
  },
  "language_info": {
   "codemirror_mode": {
    "name": "ipython",
    "version": 3
   },
   "file_extension": ".py",
   "mimetype": "text/x-python",
   "name": "python",
   "nbconvert_exporter": "python",
   "pygments_lexer": "ipython3",
   "version": "3.6.12"
  }
 },
 "nbformat": 4,
 "nbformat_minor": 5
}
